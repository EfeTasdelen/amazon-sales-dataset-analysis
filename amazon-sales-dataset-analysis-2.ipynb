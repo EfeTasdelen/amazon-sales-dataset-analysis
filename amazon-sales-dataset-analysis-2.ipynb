{
 "cells": [
  {
   "cell_type": "markdown",
   "id": "6f063c39",
   "metadata": {
    "papermill": {
     "duration": 0.010837,
     "end_time": "2025-10-10T22:11:49.155516",
     "exception": false,
     "start_time": "2025-10-10T22:11:49.144679",
     "status": "completed"
    },
    "tags": []
   },
   "source": [
    " # Amazon Sales Data Analysis using the OSEMN Framework"
   ]
  },
  {
   "cell_type": "markdown",
   "id": "230b4531",
   "metadata": {
    "papermill": {
     "duration": 0.008957,
     "end_time": "2025-10-10T22:11:49.173988",
     "exception": false,
     "start_time": "2025-10-10T22:11:49.165031",
     "status": "completed"
    },
    "tags": []
   },
   "source": [
    "## PROJECT OVERVIEW\n",
    "\n",
    "This project follows the **OSEMN Framework**, a structured process for data analysis and data science projects.  \n",
    "The OSEMN methodology ensures that each step of the analysis — from data collection to interpretation — is performed in a systematic and reproducible way.\n",
    "\n",
    "### What is the OSEMN Framework?\n",
    "\n",
    "The OSEMN framework is a well-known data analysis workflow consisting of five key stages such as :\n",
    "\n",
    "1. **O — Obtain:** Collect or import the dataset and understand its structure.  \n",
    "2. **S — Scrub:** Clean the data by handling missing values, duplicates, and inconsistent entries.  \n",
    "3. **E — Explore:** Perform exploratory data analysis (EDA) to discover patterns, relationships, and insights.  \n",
    "4. **M — Model:** Apply analytical or predictive models to quantify relationships or make predictions.  \n",
    "5. **N — Interpret:** Translate analytical findings into actionable business or practical insights.\n",
    "\n",
    "\n",
    "### Project Goal\n",
    "\n",
    "This notebook aims to analyze Amazon product sales data to uncover insights about product ratings, discounts, and popularity.  \n",
    "By applying the **OSEMN framework**, the analysis progresses from raw data to meaningful interpretations that can inform business decisions.\n",
    "\n",
    "Each section of this notebook corresponds to one of the OSEMN stages, clearly marked and explained for transparency and reproducibility.*\n"
   ]
  },
  {
   "cell_type": "markdown",
   "id": "bef3836d",
   "metadata": {
    "papermill": {
     "duration": 0.008918,
     "end_time": "2025-10-10T22:11:49.192274",
     "exception": false,
     "start_time": "2025-10-10T22:11:49.183356",
     "status": "completed"
    },
    "tags": []
   },
   "source": [
    "## OBTAIN"
   ]
  },
  {
   "cell_type": "markdown",
   "id": "d2c12dc4",
   "metadata": {
    "papermill": {
     "duration": 0.009133,
     "end_time": "2025-10-10T22:11:49.210668",
     "exception": false,
     "start_time": "2025-10-10T22:11:49.201535",
     "status": "completed"
    },
    "tags": []
   },
   "source": [
    "In this step, we focus on obtaining and exploring the dataset that will be used for our analysis.\n",
    "\n",
    "The dataset used in this project is the **Amazon Sales Dataset**, which contains information about products sold on Amazon, including details such as product title, category, price, discount percentage, rating, and rating count.  \n",
    "It was obtained from Kaggle’s public datasets: [Amazon Sales Dataset](https://www.kaggle.com/datasets/karkavelrajaj/amazon-sales-dataset).\n"
   ]
  },
  {
   "cell_type": "code",
   "execution_count": 1,
   "id": "69528a34",
   "metadata": {
    "execution": {
     "iopub.execute_input": "2025-10-10T22:11:49.230511Z",
     "iopub.status.busy": "2025-10-10T22:11:49.230156Z",
     "iopub.status.idle": "2025-10-10T22:11:53.234357Z",
     "shell.execute_reply": "2025-10-10T22:11:53.233451Z"
    },
    "papermill": {
     "duration": 4.01657,
     "end_time": "2025-10-10T22:11:53.236439",
     "exception": false,
     "start_time": "2025-10-10T22:11:49.219869",
     "status": "completed"
    },
    "tags": []
   },
   "outputs": [
    {
     "name": "stdout",
     "output_type": "stream",
     "text": [
      "   product_id                                       product_name  \\\n",
      "0  B07JW9H4J1  Wayona Nylon Braided USB to Lightning Fast Cha...   \n",
      "1  B098NS6PVG  Ambrane Unbreakable 60W / 3A Fast Charging 1.5...   \n",
      "2  B096MSW6CT  Sounce Fast Phone Charging Cable & Data Sync U...   \n",
      "\n",
      "                                            category discounted_price  \\\n",
      "0  Computers&Accessories|Accessories&Peripherals|...             ₹399   \n",
      "1  Computers&Accessories|Accessories&Peripherals|...             ₹199   \n",
      "2  Computers&Accessories|Accessories&Peripherals|...             ₹199   \n",
      "\n",
      "  actual_price discount_percentage rating rating_count  \\\n",
      "0       ₹1,099                 64%    4.2       24,269   \n",
      "1         ₹349                 43%    4.0       43,994   \n",
      "2       ₹1,899                 90%    3.9        7,928   \n",
      "\n",
      "                                       about_product  \\\n",
      "0  High Compatibility : Compatible With iPhone 12...   \n",
      "1  Compatible with all Type C enabled devices, be...   \n",
      "2  【 Fast Charger& Data Sync】-With built-in safet...   \n",
      "\n",
      "                                             user_id  \\\n",
      "0  AG3D6O4STAQKAY2UVGEUV46KN35Q,AHMY5CWJMMK5BJRBB...   \n",
      "1  AECPFYFQVRUWC3KGNLJIOREFP5LQ,AGYYVPDD7YG7FYNBX...   \n",
      "2  AGU3BBQ2V2DDAMOAKGFAWDDQ6QHA,AESFLDV2PT363T2AQ...   \n",
      "\n",
      "                                           user_name  \\\n",
      "0  Manav,Adarsh gupta,Sundeep,S.Sayeed Ahmed,jasp...   \n",
      "1  ArdKn,Nirbhay kumar,Sagar Viswanathan,Asp,Plac...   \n",
      "2  Kunal,Himanshu,viswanath,sai niharka,saqib mal...   \n",
      "\n",
      "                                           review_id  \\\n",
      "0  R3HXWT0LRP0NMF,R2AJM3LFTLZHFO,R6AQJGUP6P86,R1K...   \n",
      "1  RGIQEG07R9HS2,R1SMWZQ86XIN8U,R2J3Y1WL29GWDE,RY...   \n",
      "2  R3J3EQQ9TZI5ZJ,R3E7WBGK7ID0KV,RWU79XKQ6I1QF,R2...   \n",
      "\n",
      "                                        review_title  \\\n",
      "0  Satisfied,Charging is really fast,Value for mo...   \n",
      "1  A Good Braided Cable for Your Type C Device,Go...   \n",
      "2  Good speed for earlier versions,Good Product,W...   \n",
      "\n",
      "                                      review_content  \\\n",
      "0  Looks durable Charging is fine tooNo complains...   \n",
      "1  I ordered this cable to connect my phone to An...   \n",
      "2  Not quite durable and sturdy,https://m.media-a...   \n",
      "\n",
      "                                            img_link  \\\n",
      "0  https://m.media-amazon.com/images/W/WEBP_40237...   \n",
      "1  https://m.media-amazon.com/images/W/WEBP_40237...   \n",
      "2  https://m.media-amazon.com/images/W/WEBP_40237...   \n",
      "\n",
      "                                        product_link  \n",
      "0  https://www.amazon.in/Wayona-Braided-WN3LG1-Sy...  \n",
      "1  https://www.amazon.in/Ambrane-Unbreakable-Char...  \n",
      "2  https://www.amazon.in/Sounce-iPhone-Charging-C...  \n"
     ]
    }
   ],
   "source": [
    "import numpy as np\n",
    "import pandas as pd\n",
    "import matplotlib.pyplot as plt\n",
    "import seaborn as sns\n",
    "\n",
    "df = pd.read_csv('/kaggle/input/amazon-sales-dataset/amazon.csv')\n",
    "print(df.head(3))"
   ]
  },
  {
   "cell_type": "code",
   "execution_count": 2,
   "id": "5a373a56",
   "metadata": {
    "execution": {
     "iopub.execute_input": "2025-10-10T22:11:53.257116Z",
     "iopub.status.busy": "2025-10-10T22:11:53.256785Z",
     "iopub.status.idle": "2025-10-10T22:11:53.271183Z",
     "shell.execute_reply": "2025-10-10T22:11:53.270116Z"
    },
    "papermill": {
     "duration": 0.026849,
     "end_time": "2025-10-10T22:11:53.273156",
     "exception": false,
     "start_time": "2025-10-10T22:11:53.246307",
     "status": "completed"
    },
    "tags": []
   },
   "outputs": [
    {
     "name": "stdout",
     "output_type": "stream",
     "text": [
      "<bound method NDFrame.describe of       product_id                                       product_name  \\\n",
      "0     B07JW9H4J1  Wayona Nylon Braided USB to Lightning Fast Cha...   \n",
      "1     B098NS6PVG  Ambrane Unbreakable 60W / 3A Fast Charging 1.5...   \n",
      "2     B096MSW6CT  Sounce Fast Phone Charging Cable & Data Sync U...   \n",
      "3     B08HDJ86NZ  boAt Deuce USB 300 2 in 1 Type-C & Micro USB S...   \n",
      "4     B08CF3B7N1  Portronics Konnect L 1.2M Fast Charging 3A 8 P...   \n",
      "...          ...                                                ...   \n",
      "1460  B08L7J3T31  Noir Aqua - 5pcs PP Spun Filter + 1 Spanner | ...   \n",
      "1461  B01M6453MB  Prestige Delight PRWO Electric Rice Cooker (1 ...   \n",
      "1462  B009P2LIL4  Bajaj Majesty RX10 2000 Watts Heat Convector R...   \n",
      "1463  B00J5DYCCA  Havells Ventil Air DSP 230mm Exhaust Fan (Pist...   \n",
      "1464  B01486F4G6  Borosil Jumbo 1000-Watt Grill Sandwich Maker (...   \n",
      "\n",
      "                                               category discounted_price  \\\n",
      "0     Computers&Accessories|Accessories&Peripherals|...             ₹399   \n",
      "1     Computers&Accessories|Accessories&Peripherals|...             ₹199   \n",
      "2     Computers&Accessories|Accessories&Peripherals|...             ₹199   \n",
      "3     Computers&Accessories|Accessories&Peripherals|...             ₹329   \n",
      "4     Computers&Accessories|Accessories&Peripherals|...             ₹154   \n",
      "...                                                 ...              ...   \n",
      "1460  Home&Kitchen|Kitchen&HomeAppliances|WaterPurif...             ₹379   \n",
      "1461  Home&Kitchen|Kitchen&HomeAppliances|SmallKitch...           ₹2,280   \n",
      "1462  Home&Kitchen|Heating,Cooling&AirQuality|RoomHe...           ₹2,219   \n",
      "1463  Home&Kitchen|Heating,Cooling&AirQuality|Fans|E...           ₹1,399   \n",
      "1464  Home&Kitchen|Kitchen&HomeAppliances|SmallKitch...           ₹2,863   \n",
      "\n",
      "     actual_price discount_percentage rating rating_count  \\\n",
      "0          ₹1,099                 64%    4.2       24,269   \n",
      "1            ₹349                 43%    4.0       43,994   \n",
      "2          ₹1,899                 90%    3.9        7,928   \n",
      "3            ₹699                 53%    4.2       94,363   \n",
      "4            ₹399                 61%    4.2       16,905   \n",
      "...           ...                 ...    ...          ...   \n",
      "1460         ₹919                 59%      4        1,090   \n",
      "1461       ₹3,045                 25%    4.1        4,118   \n",
      "1462       ₹3,080                 28%    3.6          468   \n",
      "1463       ₹1,890                 26%      4        8,031   \n",
      "1464       ₹3,690                 22%    4.3        6,987   \n",
      "\n",
      "                                          about_product  \\\n",
      "0     High Compatibility : Compatible With iPhone 12...   \n",
      "1     Compatible with all Type C enabled devices, be...   \n",
      "2     【 Fast Charger& Data Sync】-With built-in safet...   \n",
      "3     The boAt Deuce USB 300 2 in 1 cable is compati...   \n",
      "4     [CHARGE & SYNC FUNCTION]- This cable comes wit...   \n",
      "...                                                 ...   \n",
      "1460  SUPREME QUALITY 90 GRAM 3 LAYER THIK PP SPUN F...   \n",
      "1461                       230 Volts, 400 watts, 1 Year   \n",
      "1462  International design and styling|Two heat sett...   \n",
      "1463  Fan sweep area: 230 MM ; Noise level: (40 - 45...   \n",
      "1464  Brand-Borosil, Specification â€“ 23V ~ 5Hz;1 W...   \n",
      "\n",
      "                                                user_id  \\\n",
      "0     AG3D6O4STAQKAY2UVGEUV46KN35Q,AHMY5CWJMMK5BJRBB...   \n",
      "1     AECPFYFQVRUWC3KGNLJIOREFP5LQ,AGYYVPDD7YG7FYNBX...   \n",
      "2     AGU3BBQ2V2DDAMOAKGFAWDDQ6QHA,AESFLDV2PT363T2AQ...   \n",
      "3     AEWAZDZZJLQUYVOVGBEUKSLXHQ5A,AG5HTSFRRE6NL3M5S...   \n",
      "4     AE3Q6KSUK5P75D5HFYHCRAOLODSA,AFUGIFH5ZAFXRDSZH...   \n",
      "...                                                 ...   \n",
      "1460  AHITFY6AHALOFOHOZEOC6XBP4FEA,AFRABBODZJZQB6Z4U...   \n",
      "1461  AFG5FM3NEMOL6BNFRV2NK5FNJCHQ,AGEINTRN6Z563RMLH...   \n",
      "1462  AGVPWCMAHYQWJOQKMUJN4DW3KM5Q,AF4Q3E66MY4SR7YQZ...   \n",
      "1463  AF2JQCLSCY3QJATWUNNHUSVUPNQQ,AFDMLUXC5LS5RXDJS...   \n",
      "1464  AFGW5PT3R6ZAVQR4Y5MWVAKBZAYA,AG7QNJ2SCS5VS5VYY...   \n",
      "\n",
      "                                              user_name  \\\n",
      "0     Manav,Adarsh gupta,Sundeep,S.Sayeed Ahmed,jasp...   \n",
      "1     ArdKn,Nirbhay kumar,Sagar Viswanathan,Asp,Plac...   \n",
      "2     Kunal,Himanshu,viswanath,sai niharka,saqib mal...   \n",
      "3     Omkar dhale,JD,HEMALATHA,Ajwadh a.,amar singh ...   \n",
      "4     rahuls6099,Swasat Borah,Ajay Wadke,Pranali,RVK...   \n",
      "...                                                 ...   \n",
      "1460  Prabha ds,Raghuram bk,Real Deal,Amazon Custome...   \n",
      "1461  Manu Bhai,Naveenpittu,Evatira Sangma,JAGANNADH...   \n",
      "1462  Nehal Desai,Danish Parwez,Amazon Customer,Amaz...   \n",
      "1463  Shubham Dubey,E.GURUBARAN,Mayank S.,eusuf khan...   \n",
      "1464  Rajib,Ajay B,Vikas Kahol,PARDEEP,Anindya Prama...   \n",
      "\n",
      "                                              review_id  \\\n",
      "0     R3HXWT0LRP0NMF,R2AJM3LFTLZHFO,R6AQJGUP6P86,R1K...   \n",
      "1     RGIQEG07R9HS2,R1SMWZQ86XIN8U,R2J3Y1WL29GWDE,RY...   \n",
      "2     R3J3EQQ9TZI5ZJ,R3E7WBGK7ID0KV,RWU79XKQ6I1QF,R2...   \n",
      "3     R3EEUZKKK9J36I,R3HJVYCLYOY554,REDECAZ7AMPQC,R1...   \n",
      "4     R1BP4L2HH9TFUP,R16PVJEXKV6QZS,R2UPDB81N66T4P,R...   \n",
      "...                                                 ...   \n",
      "1460  R3G3XFHPBFF0E8,R3C0BZCD32EIGW,R2EBVBCN9QPD9R,R...   \n",
      "1461  R3DDL2UPKQ2CK9,R2SYYU1OATVIU5,R1VM993161IYRW,R...   \n",
      "1462  R1TLRJVW4STY5I,R2O455KRN493R1,R3Q5MVGBRIAS2G,R...   \n",
      "1463  R39Q2Y79MM9SWK,R3079BG1NIH6MB,R29A31ZELTZNJM,R...   \n",
      "1464  R20RBRZ0WEUJT9,ROKIFK9R2ISSE,R30EEG2FNJSN5I,R2...   \n",
      "\n",
      "                                           review_title  \\\n",
      "0     Satisfied,Charging is really fast,Value for mo...   \n",
      "1     A Good Braided Cable for Your Type C Device,Go...   \n",
      "2     Good speed for earlier versions,Good Product,W...   \n",
      "3     Good product,Good one,Nice,Really nice product...   \n",
      "4     As good as original,Decent,Good one for second...   \n",
      "...                                                 ...   \n",
      "1460  Received the product without spanner,Excellent...   \n",
      "1461  ok,everything was good couldn't return bcoz I ...   \n",
      "1462  very good,Work but front melt after 2 month,Go...   \n",
      "1463  Fan Speed is slow,Good quality,Good product,go...   \n",
      "1464  Works perfect,Ok good product,Nice Product. Re...   \n",
      "\n",
      "                                         review_content  \\\n",
      "0     Looks durable Charging is fine tooNo complains...   \n",
      "1     I ordered this cable to connect my phone to An...   \n",
      "2     Not quite durable and sturdy,https://m.media-a...   \n",
      "3     Good product,long wire,Charges good,Nice,I bou...   \n",
      "4     Bought this instead of original apple, does th...   \n",
      "...                                                 ...   \n",
      "1460  I received product without spanner,Excellent p...   \n",
      "1461  ok,got everything as mentioned but the measuri...   \n",
      "1462  plastic but cool body ,u have to find sturdy s...   \n",
      "1463  I have installed this in my kitchen working fi...   \n",
      "1464  It does it job perfectly..only issue is temp c...   \n",
      "\n",
      "                                               img_link  \\\n",
      "0     https://m.media-amazon.com/images/W/WEBP_40237...   \n",
      "1     https://m.media-amazon.com/images/W/WEBP_40237...   \n",
      "2     https://m.media-amazon.com/images/W/WEBP_40237...   \n",
      "3     https://m.media-amazon.com/images/I/41V5FtEWPk...   \n",
      "4     https://m.media-amazon.com/images/W/WEBP_40237...   \n",
      "...                                                 ...   \n",
      "1460  https://m.media-amazon.com/images/I/41fDdRtjfx...   \n",
      "1461  https://m.media-amazon.com/images/I/41gzDxk4+k...   \n",
      "1462  https://m.media-amazon.com/images/W/WEBP_40237...   \n",
      "1463  https://m.media-amazon.com/images/W/WEBP_40237...   \n",
      "1464  https://m.media-amazon.com/images/W/WEBP_40237...   \n",
      "\n",
      "                                           product_link  \n",
      "0     https://www.amazon.in/Wayona-Braided-WN3LG1-Sy...  \n",
      "1     https://www.amazon.in/Ambrane-Unbreakable-Char...  \n",
      "2     https://www.amazon.in/Sounce-iPhone-Charging-C...  \n",
      "3     https://www.amazon.in/Deuce-300-Resistant-Tang...  \n",
      "4     https://www.amazon.in/Portronics-Konnect-POR-1...  \n",
      "...                                                 ...  \n",
      "1460  https://www.amazon.in/Noir-Aqua-Spanner-Purifi...  \n",
      "1461  https://www.amazon.in/Prestige-Delight-PRWO-1-...  \n",
      "1462  https://www.amazon.in/Bajaj-RX-10-2000-Watt-Co...  \n",
      "1463  https://www.amazon.in/Havells-Ventilair-230mm-...  \n",
      "1464  https://www.amazon.in/Borosil-Jumbo-1000-Watt-...  \n",
      "\n",
      "[1465 rows x 16 columns]>\n"
     ]
    }
   ],
   "source": [
    "print(df.describe)"
   ]
  },
  {
   "cell_type": "markdown",
   "id": "afdf0fef",
   "metadata": {
    "papermill": {
     "duration": 0.009357,
     "end_time": "2025-10-10T22:11:53.292592",
     "exception": false,
     "start_time": "2025-10-10T22:11:53.283235",
     "status": "completed"
    },
    "tags": []
   },
   "source": [
    "Dataset is made out of 1465 rows and 16 columns."
   ]
  },
  {
   "cell_type": "code",
   "execution_count": 3,
   "id": "9b2f63b8",
   "metadata": {
    "execution": {
     "iopub.execute_input": "2025-10-10T22:11:53.313555Z",
     "iopub.status.busy": "2025-10-10T22:11:53.313206Z",
     "iopub.status.idle": "2025-10-10T22:11:53.337550Z",
     "shell.execute_reply": "2025-10-10T22:11:53.336441Z"
    },
    "papermill": {
     "duration": 0.036379,
     "end_time": "2025-10-10T22:11:53.338942",
     "exception": false,
     "start_time": "2025-10-10T22:11:53.302563",
     "status": "completed"
    },
    "tags": []
   },
   "outputs": [
    {
     "name": "stdout",
     "output_type": "stream",
     "text": [
      "<class 'pandas.core.frame.DataFrame'>\n",
      "RangeIndex: 1465 entries, 0 to 1464\n",
      "Data columns (total 16 columns):\n",
      " #   Column               Non-Null Count  Dtype \n",
      "---  ------               --------------  ----- \n",
      " 0   product_id           1465 non-null   object\n",
      " 1   product_name         1465 non-null   object\n",
      " 2   category             1465 non-null   object\n",
      " 3   discounted_price     1465 non-null   object\n",
      " 4   actual_price         1465 non-null   object\n",
      " 5   discount_percentage  1465 non-null   object\n",
      " 6   rating               1465 non-null   object\n",
      " 7   rating_count         1463 non-null   object\n",
      " 8   about_product        1465 non-null   object\n",
      " 9   user_id              1465 non-null   object\n",
      " 10  user_name            1465 non-null   object\n",
      " 11  review_id            1465 non-null   object\n",
      " 12  review_title         1465 non-null   object\n",
      " 13  review_content       1465 non-null   object\n",
      " 14  img_link             1465 non-null   object\n",
      " 15  product_link         1465 non-null   object\n",
      "dtypes: object(16)\n",
      "memory usage: 183.3+ KB\n",
      "None\n"
     ]
    }
   ],
   "source": [
    "print(df.info())"
   ]
  },
  {
   "cell_type": "markdown",
   "id": "cc596d0b",
   "metadata": {
    "papermill": {
     "duration": 0.00944,
     "end_time": "2025-10-10T22:11:53.358425",
     "exception": false,
     "start_time": "2025-10-10T22:11:53.348985",
     "status": "completed"
    },
    "tags": []
   },
   "source": [
    "There are 2 null values in our rating_count column and interestingly , every data type is an object."
   ]
  },
  {
   "cell_type": "markdown",
   "id": "5180dcc2",
   "metadata": {
    "papermill": {
     "duration": 0.009415,
     "end_time": "2025-10-10T22:11:53.377545",
     "exception": false,
     "start_time": "2025-10-10T22:11:53.368130",
     "status": "completed"
    },
    "tags": []
   },
   "source": [
    "Let's double check to see null values in the dataset."
   ]
  },
  {
   "cell_type": "code",
   "execution_count": 4,
   "id": "a21a3633",
   "metadata": {
    "execution": {
     "iopub.execute_input": "2025-10-10T22:11:53.398264Z",
     "iopub.status.busy": "2025-10-10T22:11:53.397970Z",
     "iopub.status.idle": "2025-10-10T22:11:53.406084Z",
     "shell.execute_reply": "2025-10-10T22:11:53.404918Z"
    },
    "papermill": {
     "duration": 0.020314,
     "end_time": "2025-10-10T22:11:53.407517",
     "exception": false,
     "start_time": "2025-10-10T22:11:53.387203",
     "status": "completed"
    },
    "tags": []
   },
   "outputs": [
    {
     "name": "stdout",
     "output_type": "stream",
     "text": [
      "product_id             0\n",
      "product_name           0\n",
      "category               0\n",
      "discounted_price       0\n",
      "actual_price           0\n",
      "discount_percentage    0\n",
      "rating                 0\n",
      "rating_count           2\n",
      "about_product          0\n",
      "user_id                0\n",
      "user_name              0\n",
      "review_id              0\n",
      "review_title           0\n",
      "review_content         0\n",
      "img_link               0\n",
      "product_link           0\n",
      "dtype: int64\n"
     ]
    }
   ],
   "source": [
    "print(df.isna().sum())"
   ]
  },
  {
   "cell_type": "markdown",
   "id": "85c76df2",
   "metadata": {
    "papermill": {
     "duration": 0.009478,
     "end_time": "2025-10-10T22:11:53.426957",
     "exception": false,
     "start_time": "2025-10-10T22:11:53.417479",
     "status": "completed"
    },
    "tags": []
   },
   "source": [
    "Let's find out which rows rating_count values are null."
   ]
  },
  {
   "cell_type": "code",
   "execution_count": 5,
   "id": "e9466e0f",
   "metadata": {
    "execution": {
     "iopub.execute_input": "2025-10-10T22:11:53.447977Z",
     "iopub.status.busy": "2025-10-10T22:11:53.447623Z",
     "iopub.status.idle": "2025-10-10T22:11:53.458442Z",
     "shell.execute_reply": "2025-10-10T22:11:53.457392Z"
    },
    "papermill": {
     "duration": 0.023087,
     "end_time": "2025-10-10T22:11:53.459965",
     "exception": false,
     "start_time": "2025-10-10T22:11:53.436878",
     "status": "completed"
    },
    "tags": []
   },
   "outputs": [
    {
     "name": "stdout",
     "output_type": "stream",
     "text": [
      "     product_id                                       product_name  \\\n",
      "282  B0B94JPY2N  Amazon Brand - Solimo 65W Fast Charging Braide...   \n",
      "324  B0BQRJ3C47  REDTECH USB-C to Lightning Cable 3.3FT, [Apple...   \n",
      "\n",
      "                                              category discounted_price  \\\n",
      "282  Computers&Accessories|Accessories&Peripherals|...             ₹199   \n",
      "324  Computers&Accessories|Accessories&Peripherals|...             ₹249   \n",
      "\n",
      "    actual_price discount_percentage rating rating_count  \\\n",
      "282         ₹999                 80%    3.0          NaN   \n",
      "324         ₹999                 75%    5.0          NaN   \n",
      "\n",
      "                                         about_product  \\\n",
      "282  USB C to C Cable: This cable has type C connec...   \n",
      "324  💎[The Fastest Charge] - This iPhone USB C cabl...   \n",
      "\n",
      "                          user_id    user_name      review_id  \\\n",
      "282  AE7CFHY23VAJT2FI4NZKKP6GS2UQ       Pranav   RUB7U91HVZ30   \n",
      "324  AGJC5O5H5BBXWUV7WRIEIOOR3TVQ  Abdul Gafur  RQXD5SAMMPC6L   \n",
      "\n",
      "                                     review_title  \\\n",
      "282  The cable works but is not 65W as advertised   \n",
      "324                               Awesome Product   \n",
      "\n",
      "                                        review_content  \\\n",
      "282  I have a pd supported car charger and I bought...   \n",
      "324  Quick delivery.Awesome ProductPacking was good...   \n",
      "\n",
      "                                              img_link  \\\n",
      "282  https://m.media-amazon.com/images/W/WEBP_40237...   \n",
      "324  https://m.media-amazon.com/images/I/31-q0xhaTA...   \n",
      "\n",
      "                                          product_link  \n",
      "282  https://www.amazon.in/Amazon-Brand-Charging-Su...  \n",
      "324  https://www.amazon.in/REDTECH-Lightning-Certif...  \n"
     ]
    }
   ],
   "source": [
    "null_mask = df[\"rating_count\"].isna()\n",
    "null_rows = df[null_mask]\n",
    "print(null_rows)"
   ]
  },
  {
   "cell_type": "markdown",
   "id": "72ca8d3c",
   "metadata": {
    "papermill": {
     "duration": 0.009732,
     "end_time": "2025-10-10T22:11:53.480031",
     "exception": false,
     "start_time": "2025-10-10T22:11:53.470299",
     "status": "completed"
    },
    "tags": []
   },
   "source": [
    "Rows with index numbers of 282 and 324 has no value in their 'rating_count' column ! Now let's decide what to do with them."
   ]
  },
  {
   "cell_type": "markdown",
   "id": "92210218",
   "metadata": {
    "papermill": {
     "duration": 0.009608,
     "end_time": "2025-10-10T22:11:53.499497",
     "exception": false,
     "start_time": "2025-10-10T22:11:53.489889",
     "status": "completed"
    },
    "tags": []
   },
   "source": [
    "Since we don't have any additional information about the rating count and we can't obtain them from anywhere , let's just leave them out of the dataset."
   ]
  },
  {
   "cell_type": "markdown",
   "id": "8391b762",
   "metadata": {
    "papermill": {
     "duration": 0.009638,
     "end_time": "2025-10-10T22:11:53.518943",
     "exception": false,
     "start_time": "2025-10-10T22:11:53.509305",
     "status": "completed"
    },
    "tags": []
   },
   "source": [
    "## SCRUB"
   ]
  },
  {
   "cell_type": "markdown",
   "id": "032f76fd",
   "metadata": {
    "papermill": {
     "duration": 0.009673,
     "end_time": "2025-10-10T22:11:53.538567",
     "exception": false,
     "start_time": "2025-10-10T22:11:53.528894",
     "status": "completed"
    },
    "tags": []
   },
   "source": [
    "Let's start our SCRUB stage by removing the rows with the null values in 'rating_count' column."
   ]
  },
  {
   "cell_type": "markdown",
   "id": "1221e76c",
   "metadata": {
    "papermill": {
     "duration": 0.009671,
     "end_time": "2025-10-10T22:11:53.558168",
     "exception": false,
     "start_time": "2025-10-10T22:11:53.548497",
     "status": "completed"
    },
    "tags": []
   },
   "source": [
    "Since we already know which rows has null values from the OBTAIN stage let's go ahead and remove them with their respective index numbers."
   ]
  },
  {
   "cell_type": "code",
   "execution_count": 6,
   "id": "c414ef25",
   "metadata": {
    "execution": {
     "iopub.execute_input": "2025-10-10T22:11:53.579298Z",
     "iopub.status.busy": "2025-10-10T22:11:53.579024Z",
     "iopub.status.idle": "2025-10-10T22:11:53.589273Z",
     "shell.execute_reply": "2025-10-10T22:11:53.588067Z"
    },
    "papermill": {
     "duration": 0.023121,
     "end_time": "2025-10-10T22:11:53.591063",
     "exception": false,
     "start_time": "2025-10-10T22:11:53.567942",
     "status": "completed"
    },
    "tags": []
   },
   "outputs": [
    {
     "name": "stdout",
     "output_type": "stream",
     "text": [
      "product_id             0\n",
      "product_name           0\n",
      "category               0\n",
      "discounted_price       0\n",
      "actual_price           0\n",
      "discount_percentage    0\n",
      "rating                 0\n",
      "rating_count           0\n",
      "about_product          0\n",
      "user_id                0\n",
      "user_name              0\n",
      "review_id              0\n",
      "review_title           0\n",
      "review_content         0\n",
      "img_link               0\n",
      "product_link           0\n",
      "dtype: int64\n"
     ]
    }
   ],
   "source": [
    "df = df.drop([282,324], axis = 0)\n",
    "print(df.isna().sum())"
   ]
  },
  {
   "cell_type": "code",
   "execution_count": 7,
   "id": "98e7f484",
   "metadata": {
    "execution": {
     "iopub.execute_input": "2025-10-10T22:11:53.613251Z",
     "iopub.status.busy": "2025-10-10T22:11:53.612879Z",
     "iopub.status.idle": "2025-10-10T22:11:53.618445Z",
     "shell.execute_reply": "2025-10-10T22:11:53.617430Z"
    },
    "papermill": {
     "duration": 0.018506,
     "end_time": "2025-10-10T22:11:53.620073",
     "exception": false,
     "start_time": "2025-10-10T22:11:53.601567",
     "status": "completed"
    },
    "tags": []
   },
   "outputs": [],
   "source": [
    "df = df.reset_index(drop = True)"
   ]
  },
  {
   "cell_type": "markdown",
   "id": "1f171588",
   "metadata": {
    "papermill": {
     "duration": 0.009889,
     "end_time": "2025-10-10T22:11:53.640481",
     "exception": false,
     "start_time": "2025-10-10T22:11:53.630592",
     "status": "completed"
    },
    "tags": []
   },
   "source": [
    "Rows with null values are now dropped and every index is now in order. The next step of the SCRUB process will be data type management. As we already know from the OBTAIN step , all attributes of our data is stores as an object even if they should be numerical values. Now let's deal with them !"
   ]
  },
  {
   "cell_type": "markdown",
   "id": "790f0172",
   "metadata": {
    "papermill": {
     "duration": 0.010014,
     "end_time": "2025-10-10T22:11:53.660722",
     "exception": false,
     "start_time": "2025-10-10T22:11:53.650708",
     "status": "completed"
    },
    "tags": []
   },
   "source": [
    "Generally columns that stores price values are kept as numerical values hence 'discounted_price' and 'actual_price'column should be a numerical data type such as integer or a float. Also this applies to both 'rating' and 'rating_count' column. These columns will be now converted to a numerical data type."
   ]
  },
  {
   "cell_type": "markdown",
   "id": "2e63d3e9",
   "metadata": {
    "papermill": {
     "duration": 0.010126,
     "end_time": "2025-10-10T22:11:53.680940",
     "exception": false,
     "start_time": "2025-10-10T22:11:53.670814",
     "status": "completed"
    },
    "tags": []
   },
   "source": [
    "Let's start with 'discounted_price' and 'actual_price' columns. Keep in mind that in order to convert these values in to a numerical data type we need to get rid of the currency symbols."
   ]
  },
  {
   "cell_type": "code",
   "execution_count": 8,
   "id": "550ad472",
   "metadata": {
    "execution": {
     "iopub.execute_input": "2025-10-10T22:11:53.702332Z",
     "iopub.status.busy": "2025-10-10T22:11:53.701984Z",
     "iopub.status.idle": "2025-10-10T22:11:53.710865Z",
     "shell.execute_reply": "2025-10-10T22:11:53.709894Z"
    },
    "papermill": {
     "duration": 0.021442,
     "end_time": "2025-10-10T22:11:53.712371",
     "exception": false,
     "start_time": "2025-10-10T22:11:53.690929",
     "status": "completed"
    },
    "tags": []
   },
   "outputs": [],
   "source": [
    "df[\"discounted_price\"] = df[\"discounted_price\"].str.replace(\"₹\" , \"\")\n",
    "df[\"actual_price\"] = df[\"actual_price\"].str.replace(\"₹\" , \"\")"
   ]
  },
  {
   "cell_type": "markdown",
   "id": "33bd1f92",
   "metadata": {
    "papermill": {
     "duration": 0.009876,
     "end_time": "2025-10-10T22:11:53.732682",
     "exception": false,
     "start_time": "2025-10-10T22:11:53.722806",
     "status": "completed"
    },
    "tags": []
   },
   "source": [
    "Commas also should be removed too in order to standardize the numeric data."
   ]
  },
  {
   "cell_type": "code",
   "execution_count": 9,
   "id": "47002046",
   "metadata": {
    "execution": {
     "iopub.execute_input": "2025-10-10T22:11:53.754262Z",
     "iopub.status.busy": "2025-10-10T22:11:53.753973Z",
     "iopub.status.idle": "2025-10-10T22:11:53.761022Z",
     "shell.execute_reply": "2025-10-10T22:11:53.760207Z"
    },
    "papermill": {
     "duration": 0.019681,
     "end_time": "2025-10-10T22:11:53.762563",
     "exception": false,
     "start_time": "2025-10-10T22:11:53.742882",
     "status": "completed"
    },
    "tags": []
   },
   "outputs": [],
   "source": [
    "df[\"discounted_price\"] = df[\"discounted_price\"].str.replace(\",\" ,\"\")\n",
    "df[\"actual_price\"] = df[\"actual_price\"].str.replace(\",\" ,\"\")"
   ]
  },
  {
   "cell_type": "markdown",
   "id": "886a0093",
   "metadata": {
    "papermill": {
     "duration": 0.009793,
     "end_time": "2025-10-10T22:11:53.782491",
     "exception": false,
     "start_time": "2025-10-10T22:11:53.772698",
     "status": "completed"
    },
    "tags": []
   },
   "source": [
    "Now we can change them in to floats !"
   ]
  },
  {
   "cell_type": "code",
   "execution_count": 10,
   "id": "a7cd229b",
   "metadata": {
    "execution": {
     "iopub.execute_input": "2025-10-10T22:11:53.805797Z",
     "iopub.status.busy": "2025-10-10T22:11:53.805476Z",
     "iopub.status.idle": "2025-10-10T22:11:53.811117Z",
     "shell.execute_reply": "2025-10-10T22:11:53.810332Z"
    },
    "papermill": {
     "duration": 0.018357,
     "end_time": "2025-10-10T22:11:53.812587",
     "exception": false,
     "start_time": "2025-10-10T22:11:53.794230",
     "status": "completed"
    },
    "tags": []
   },
   "outputs": [],
   "source": [
    "df[\"discounted_price\"] = df[\"discounted_price\"].astype(float)\n",
    "df[\"actual_price\"] = df[\"actual_price\"].astype(float)"
   ]
  },
  {
   "cell_type": "markdown",
   "id": "1f3da22a",
   "metadata": {
    "papermill": {
     "duration": 0.009746,
     "end_time": "2025-10-10T22:11:53.832914",
     "exception": false,
     "start_time": "2025-10-10T22:11:53.823168",
     "status": "completed"
    },
    "tags": []
   },
   "source": [
    "Done ! 'discounted_price' and 'actual_price' columns are now stored as floats. Now let's move on to the 'rating' and 'rating_count' columns."
   ]
  },
  {
   "cell_type": "markdown",
   "id": "b33345b8",
   "metadata": {
    "papermill": {
     "duration": 0.010646,
     "end_time": "2025-10-10T22:11:53.853658",
     "exception": false,
     "start_time": "2025-10-10T22:11:53.843012",
     "status": "completed"
    },
    "tags": []
   },
   "source": [
    "Unfortunately , we have a misplaced value in our rating column which is '|' . In order to handle this situation the whole row which holds the '|' will be dropped too."
   ]
  },
  {
   "cell_type": "code",
   "execution_count": 11,
   "id": "70a03d24",
   "metadata": {
    "execution": {
     "iopub.execute_input": "2025-10-10T22:11:53.875341Z",
     "iopub.status.busy": "2025-10-10T22:11:53.875024Z",
     "iopub.status.idle": "2025-10-10T22:11:53.880880Z",
     "shell.execute_reply": "2025-10-10T22:11:53.879926Z"
    },
    "papermill": {
     "duration": 0.018316,
     "end_time": "2025-10-10T22:11:53.882177",
     "exception": false,
     "start_time": "2025-10-10T22:11:53.863861",
     "status": "completed"
    },
    "tags": []
   },
   "outputs": [
    {
     "name": "stdout",
     "output_type": "stream",
     "text": [
      "Index([1277], dtype='int64')\n"
     ]
    }
   ],
   "source": [
    "misplaced_rating_value = df.index[df[\"rating\"]=='|']\n",
    "print(misplaced_rating_value)"
   ]
  },
  {
   "cell_type": "markdown",
   "id": "ef575834",
   "metadata": {
    "papermill": {
     "duration": 0.010103,
     "end_time": "2025-10-10T22:11:53.902640",
     "exception": false,
     "start_time": "2025-10-10T22:11:53.892537",
     "status": "completed"
    },
    "tags": []
   },
   "source": [
    "Row with the index 1277 will be dropped now."
   ]
  },
  {
   "cell_type": "code",
   "execution_count": 12,
   "id": "203c95b3",
   "metadata": {
    "execution": {
     "iopub.execute_input": "2025-10-10T22:11:53.925107Z",
     "iopub.status.busy": "2025-10-10T22:11:53.924797Z",
     "iopub.status.idle": "2025-10-10T22:11:53.932896Z",
     "shell.execute_reply": "2025-10-10T22:11:53.932072Z"
    },
    "papermill": {
     "duration": 0.021055,
     "end_time": "2025-10-10T22:11:53.934593",
     "exception": false,
     "start_time": "2025-10-10T22:11:53.913538",
     "status": "completed"
    },
    "tags": []
   },
   "outputs": [],
   "source": [
    "df = df.drop(1277 , axis = 0)"
   ]
  },
  {
   "cell_type": "code",
   "execution_count": 13,
   "id": "a80c55fd",
   "metadata": {
    "execution": {
     "iopub.execute_input": "2025-10-10T22:11:53.956685Z",
     "iopub.status.busy": "2025-10-10T22:11:53.955871Z",
     "iopub.status.idle": "2025-10-10T22:11:53.962104Z",
     "shell.execute_reply": "2025-10-10T22:11:53.961418Z"
    },
    "papermill": {
     "duration": 0.018803,
     "end_time": "2025-10-10T22:11:53.963656",
     "exception": false,
     "start_time": "2025-10-10T22:11:53.944853",
     "status": "completed"
    },
    "tags": []
   },
   "outputs": [],
   "source": [
    "df = df.reset_index(drop = True)"
   ]
  },
  {
   "cell_type": "markdown",
   "id": "438dbc00",
   "metadata": {
    "papermill": {
     "duration": 0.009926,
     "end_time": "2025-10-10T22:11:53.984051",
     "exception": false,
     "start_time": "2025-10-10T22:11:53.974125",
     "status": "completed"
    },
    "tags": []
   },
   "source": [
    "Now we can move on to converting 'rating' column's data type into float."
   ]
  },
  {
   "cell_type": "code",
   "execution_count": 14,
   "id": "9e52f323",
   "metadata": {
    "execution": {
     "iopub.execute_input": "2025-10-10T22:11:54.005738Z",
     "iopub.status.busy": "2025-10-10T22:11:54.005411Z",
     "iopub.status.idle": "2025-10-10T22:11:54.011161Z",
     "shell.execute_reply": "2025-10-10T22:11:54.010157Z"
    },
    "papermill": {
     "duration": 0.018442,
     "end_time": "2025-10-10T22:11:54.012599",
     "exception": false,
     "start_time": "2025-10-10T22:11:53.994157",
     "status": "completed"
    },
    "tags": []
   },
   "outputs": [],
   "source": [
    "df[\"rating\"] = df[\"rating\"].astype(float)"
   ]
  },
  {
   "cell_type": "markdown",
   "id": "21508f47",
   "metadata": {
    "papermill": {
     "duration": 0.010025,
     "end_time": "2025-10-10T22:11:54.032955",
     "exception": false,
     "start_time": "2025-10-10T22:11:54.022930",
     "status": "completed"
    },
    "tags": []
   },
   "source": [
    "Now we will modify 'rating_count' column so we can store the column as a float data type. Let's begin with removing the comma seperators and then change our column in to a float data type."
   ]
  },
  {
   "cell_type": "code",
   "execution_count": 15,
   "id": "f5dfdbb2",
   "metadata": {
    "execution": {
     "iopub.execute_input": "2025-10-10T22:11:54.055000Z",
     "iopub.status.busy": "2025-10-10T22:11:54.054670Z",
     "iopub.status.idle": "2025-10-10T22:11:54.061881Z",
     "shell.execute_reply": "2025-10-10T22:11:54.060854Z"
    },
    "papermill": {
     "duration": 0.020184,
     "end_time": "2025-10-10T22:11:54.063475",
     "exception": false,
     "start_time": "2025-10-10T22:11:54.043291",
     "status": "completed"
    },
    "tags": []
   },
   "outputs": [],
   "source": [
    "df[\"rating_count\"] = df[\"rating_count\"].str.replace(\",\" , \"\")\n",
    "df[\"rating_count\"] = df[\"rating_count\"].astype(float)"
   ]
  },
  {
   "cell_type": "markdown",
   "id": "c437dd35",
   "metadata": {
    "papermill": {
     "duration": 0.010213,
     "end_time": "2025-10-10T22:11:54.084375",
     "exception": false,
     "start_time": "2025-10-10T22:11:54.074162",
     "status": "completed"
    },
    "tags": []
   },
   "source": [
    "Lastly, 'discount_percentage' column will also be standardized by removing '%' symbol and changing into a float data type."
   ]
  },
  {
   "cell_type": "code",
   "execution_count": 16,
   "id": "0869d81d",
   "metadata": {
    "execution": {
     "iopub.execute_input": "2025-10-10T22:11:54.105997Z",
     "iopub.status.busy": "2025-10-10T22:11:54.105718Z",
     "iopub.status.idle": "2025-10-10T22:11:54.112048Z",
     "shell.execute_reply": "2025-10-10T22:11:54.111274Z"
    },
    "papermill": {
     "duration": 0.018773,
     "end_time": "2025-10-10T22:11:54.113405",
     "exception": false,
     "start_time": "2025-10-10T22:11:54.094632",
     "status": "completed"
    },
    "tags": []
   },
   "outputs": [],
   "source": [
    "df[\"discount_percentage\"] = df[\"discount_percentage\"].str.replace(\"%\" ,\"\")\n",
    "df[\"discount_percentage\"] = df[\"discount_percentage\"].astype(float)"
   ]
  },
  {
   "cell_type": "markdown",
   "id": "e1563c10",
   "metadata": {
    "papermill": {
     "duration": 0.010116,
     "end_time": "2025-10-10T22:11:54.133897",
     "exception": false,
     "start_time": "2025-10-10T22:11:54.123781",
     "status": "completed"
    },
    "tags": []
   },
   "source": [
    "Now let's check our columns and their information!"
   ]
  },
  {
   "cell_type": "code",
   "execution_count": 17,
   "id": "072197fe",
   "metadata": {
    "execution": {
     "iopub.execute_input": "2025-10-10T22:11:54.156530Z",
     "iopub.status.busy": "2025-10-10T22:11:54.156116Z",
     "iopub.status.idle": "2025-10-10T22:11:54.170259Z",
     "shell.execute_reply": "2025-10-10T22:11:54.169131Z"
    },
    "papermill": {
     "duration": 0.027826,
     "end_time": "2025-10-10T22:11:54.171901",
     "exception": false,
     "start_time": "2025-10-10T22:11:54.144075",
     "status": "completed"
    },
    "tags": []
   },
   "outputs": [
    {
     "name": "stdout",
     "output_type": "stream",
     "text": [
      "<class 'pandas.core.frame.DataFrame'>\n",
      "RangeIndex: 1462 entries, 0 to 1461\n",
      "Data columns (total 16 columns):\n",
      " #   Column               Non-Null Count  Dtype  \n",
      "---  ------               --------------  -----  \n",
      " 0   product_id           1462 non-null   object \n",
      " 1   product_name         1462 non-null   object \n",
      " 2   category             1462 non-null   object \n",
      " 3   discounted_price     1462 non-null   float64\n",
      " 4   actual_price         1462 non-null   float64\n",
      " 5   discount_percentage  1462 non-null   float64\n",
      " 6   rating               1462 non-null   float64\n",
      " 7   rating_count         1462 non-null   float64\n",
      " 8   about_product        1462 non-null   object \n",
      " 9   user_id              1462 non-null   object \n",
      " 10  user_name            1462 non-null   object \n",
      " 11  review_id            1462 non-null   object \n",
      " 12  review_title         1462 non-null   object \n",
      " 13  review_content       1462 non-null   object \n",
      " 14  img_link             1462 non-null   object \n",
      " 15  product_link         1462 non-null   object \n",
      "dtypes: float64(5), object(11)\n",
      "memory usage: 182.9+ KB\n",
      "None\n"
     ]
    }
   ],
   "source": [
    "print(df.info())"
   ]
  },
  {
   "cell_type": "markdown",
   "id": "8f23c9de",
   "metadata": {
    "papermill": {
     "duration": 0.009847,
     "end_time": "2025-10-10T22:11:54.192528",
     "exception": false,
     "start_time": "2025-10-10T22:11:54.182681",
     "status": "completed"
    },
    "tags": []
   },
   "source": [
    "We can see that all needed data columns are now converted into their correct data type!"
   ]
  },
  {
   "cell_type": "markdown",
   "id": "36078548",
   "metadata": {
    "papermill": {
     "duration": 0.009725,
     "end_time": "2025-10-10T22:11:54.212212",
     "exception": false,
     "start_time": "2025-10-10T22:11:54.202487",
     "status": "completed"
    },
    "tags": []
   },
   "source": [
    "For the final stage of our SCRUB operation we will make some operations on the category column. Dataset provides us with a very specific categorization so we will generalize this column by changing every data in this column in to their main category. For Example : \"Computers&Accessories|Accessories&Peripherals|Adapters|USBtoUSBAdapters\" will be changed in to \"Computers&Accessories\". This data will be stored in a new column named as \"column_general\"."
   ]
  },
  {
   "cell_type": "code",
   "execution_count": 18,
   "id": "0f1fc628",
   "metadata": {
    "execution": {
     "iopub.execute_input": "2025-10-10T22:11:54.233463Z",
     "iopub.status.busy": "2025-10-10T22:11:54.233139Z",
     "iopub.status.idle": "2025-10-10T22:11:54.242660Z",
     "shell.execute_reply": "2025-10-10T22:11:54.241564Z"
    },
    "papermill": {
     "duration": 0.021986,
     "end_time": "2025-10-10T22:11:54.244210",
     "exception": false,
     "start_time": "2025-10-10T22:11:54.222224",
     "status": "completed"
    },
    "tags": []
   },
   "outputs": [
    {
     "name": "stdout",
     "output_type": "stream",
     "text": [
      "0    Computers&Accessories\n",
      "1    Computers&Accessories\n",
      "2    Computers&Accessories\n",
      "3    Computers&Accessories\n",
      "4    Computers&Accessories\n",
      "Name: category_general, dtype: object\n"
     ]
    }
   ],
   "source": [
    "df[\"category_general\"] = df[\"category\"].str.split(\"|\").str[0]\n",
    "print(df[\"category_general\"].head(5))"
   ]
  },
  {
   "cell_type": "markdown",
   "id": "97790f7d",
   "metadata": {
    "papermill": {
     "duration": 0.010179,
     "end_time": "2025-10-10T22:11:54.264857",
     "exception": false,
     "start_time": "2025-10-10T22:11:54.254678",
     "status": "completed"
    },
    "tags": []
   },
   "source": [
    "Done ! Now we have a column that gives us the general category of the item in our dataset!"
   ]
  },
  {
   "cell_type": "markdown",
   "id": "5ac90651",
   "metadata": {
    "papermill": {
     "duration": 0.010269,
     "end_time": "2025-10-10T22:11:54.285505",
     "exception": false,
     "start_time": "2025-10-10T22:11:54.275236",
     "status": "completed"
    },
    "tags": []
   },
   "source": [
    "## EXPLORE"
   ]
  },
  {
   "cell_type": "markdown",
   "id": "e556c762",
   "metadata": {
    "papermill": {
     "duration": 0.009994,
     "end_time": "2025-10-10T22:11:54.306014",
     "exception": false,
     "start_time": "2025-10-10T22:11:54.296020",
     "status": "completed"
    },
    "tags": []
   },
   "source": [
    "Our goal in the EXPLORE stage is to find relationships , patterns and trends. We will use descriptive statistics and visualizations to help us achieve our goal."
   ]
  },
  {
   "cell_type": "code",
   "execution_count": 19,
   "id": "abbc0264",
   "metadata": {
    "execution": {
     "iopub.execute_input": "2025-10-10T22:11:54.327871Z",
     "iopub.status.busy": "2025-10-10T22:11:54.327558Z",
     "iopub.status.idle": "2025-10-10T22:11:54.358283Z",
     "shell.execute_reply": "2025-10-10T22:11:54.357056Z"
    },
    "papermill": {
     "duration": 0.043554,
     "end_time": "2025-10-10T22:11:54.359982",
     "exception": false,
     "start_time": "2025-10-10T22:11:54.316428",
     "status": "completed"
    },
    "tags": []
   },
   "outputs": [
    {
     "name": "stdout",
     "output_type": "stream",
     "text": [
      "       discounted_price   actual_price  discount_percentage       rating  \\\n",
      "count       1462.000000    1462.000000          1462.000000  1462.000000   \n",
      "mean        3129.981826    5453.087743            47.672367     4.096717   \n",
      "std         6950.548042   10884.467444            21.613905     0.289497   \n",
      "min           39.000000      39.000000             0.000000     2.000000   \n",
      "25%          325.000000     800.000000            32.000000     4.000000   \n",
      "50%          799.000000    1670.000000            50.000000     4.100000   \n",
      "75%         1999.000000    4321.250000            63.000000     4.300000   \n",
      "max        77990.000000  139900.000000            94.000000     5.000000   \n",
      "\n",
      "        rating_count  \n",
      "count    1462.000000  \n",
      "mean    18307.376881  \n",
      "std     42766.096572  \n",
      "min         2.000000  \n",
      "25%      1191.500000  \n",
      "50%      5179.000000  \n",
      "75%     17342.250000  \n",
      "max    426973.000000  \n"
     ]
    }
   ],
   "source": [
    "print(df.describe())"
   ]
  },
  {
   "cell_type": "markdown",
   "id": "fdf7432c",
   "metadata": {
    "papermill": {
     "duration": 0.010279,
     "end_time": "2025-10-10T22:11:54.381211",
     "exception": false,
     "start_time": "2025-10-10T22:11:54.370932",
     "status": "completed"
    },
    "tags": []
   },
   "source": [
    "Summary statistics gives us a quick idea about our dataset's statistics. Let's go ahead and find them for the columns which gives us information about prices!"
   ]
  },
  {
   "cell_type": "code",
   "execution_count": 20,
   "id": "01e13400",
   "metadata": {
    "execution": {
     "iopub.execute_input": "2025-10-10T22:11:54.404541Z",
     "iopub.status.busy": "2025-10-10T22:11:54.404212Z",
     "iopub.status.idle": "2025-10-10T22:11:54.413877Z",
     "shell.execute_reply": "2025-10-10T22:11:54.412775Z"
    },
    "papermill": {
     "duration": 0.023387,
     "end_time": "2025-10-10T22:11:54.415241",
     "exception": false,
     "start_time": "2025-10-10T22:11:54.391854",
     "status": "completed"
    },
    "tags": []
   },
   "outputs": [
    {
     "name": "stdout",
     "output_type": "stream",
     "text": [
      "Average Discounted Price : 3129.98 ₹\n",
      "Average Actual Price : 5453.09 ₹\n",
      "----------------------------\n",
      "Minimum Discounted Price : 39.0 ₹\n",
      "Minimum Actual Price : 39.0 ₹\n",
      "----------------------------\n",
      "Maximum Discounted Price : 77990.0 ₹\n",
      "Maximum Actual Price : 139900.0 ₹\n",
      "----------------------------\n",
      "Standard Deviation of Discounted Price : 6950.55 ₹\n",
      "Standard Devation of Actual Price : 10884.47 ₹\n",
      "----------------------------\n",
      "Median of Discounted Price : 799.0 ₹\n",
      "Median of Actual Price : 1670.0 ₹\n"
     ]
    }
   ],
   "source": [
    "print(\"Average Discounted Price :\" , round(df[\"discounted_price\"].mean() , 2) , \"₹\")\n",
    "print(\"Average Actual Price :\" , round(df[\"actual_price\"].mean() , 2) , \"₹\")\n",
    "print(\"----------------------------\")\n",
    "print(\"Minimum Discounted Price :\" , df[\"discounted_price\"].min() , \"₹\")\n",
    "print(\"Minimum Actual Price :\" , df[\"actual_price\"].min() , \"₹\")\n",
    "print(\"----------------------------\")\n",
    "print(\"Maximum Discounted Price :\" , df[\"discounted_price\"].max() ,\"₹\")\n",
    "print(\"Maximum Actual Price :\" , df[\"actual_price\"].max() , \"₹\")\n",
    "print(\"----------------------------\")\n",
    "print(\"Standard Deviation of Discounted Price :\" , round(df[\"discounted_price\"].std(ddof = 1) , 2) , \"₹\")\n",
    "print(\"Standard Devation of Actual Price :\" , round(df[\"actual_price\"].std(ddof =1) ,2) , \"₹\")\n",
    "# Note : ddof parameter is set to 1 since this dataset is only a sample of the whole amazon sales.\n",
    "print(\"----------------------------\")\n",
    "print(\"Median of Discounted Price :\" , np.median(df[\"discounted_price\"]) , \"₹\")\n",
    "print(\"Median of Actual Price :\" , np.median(df[\"actual_price\"]) , \"₹\")"
   ]
  },
  {
   "cell_type": "markdown",
   "id": "56bd4b0e",
   "metadata": {
    "papermill": {
     "duration": 0.010048,
     "end_time": "2025-10-10T22:11:54.436010",
     "exception": false,
     "start_time": "2025-10-10T22:11:54.425962",
     "status": "completed"
    },
    "tags": []
   },
   "source": [
    "Done ! "
   ]
  },
  {
   "cell_type": "markdown",
   "id": "41a9467d",
   "metadata": {
    "papermill": {
     "duration": 0.010111,
     "end_time": "2025-10-10T22:11:54.456613",
     "exception": false,
     "start_time": "2025-10-10T22:11:54.446502",
     "status": "completed"
    },
    "tags": []
   },
   "source": [
    "To do some further analysis , let's find out the average actual price and discounted price values for each product category and analyze the results."
   ]
  },
  {
   "cell_type": "code",
   "execution_count": 21,
   "id": "57a11fe4",
   "metadata": {
    "execution": {
     "iopub.execute_input": "2025-10-10T22:11:54.479084Z",
     "iopub.status.busy": "2025-10-10T22:11:54.478408Z",
     "iopub.status.idle": "2025-10-10T22:11:54.901917Z",
     "shell.execute_reply": "2025-10-10T22:11:54.900882Z"
    },
    "papermill": {
     "duration": 0.437008,
     "end_time": "2025-10-10T22:11:54.903962",
     "exception": false,
     "start_time": "2025-10-10T22:11:54.466954",
     "status": "completed"
    },
    "tags": []
   },
   "outputs": [
    {
     "name": "stdout",
     "output_type": "stream",
     "text": [
      "                       actual_price  discounted_price\n",
      "category_general                                     \n",
      "Car&Motorbike           4000.000000       2339.000000\n",
      "Computers&Accessories   1686.659157        845.393836\n",
      "Electronics            10127.311787       5965.887833\n",
      "Health&PersonalCare     1900.000000        899.000000\n",
      "Home&Kitchen            4165.794183       2331.133803\n",
      "HomeImprovement          799.000000        337.000000\n",
      "MusicalInstruments      1347.000000        638.000000\n",
      "OfficeProducts           397.193548        301.580645\n",
      "Toys&Games               150.000000        150.000000\n"
     ]
    },
    {
     "name": "stderr",
     "output_type": "stream",
     "text": [
      "/tmp/ipykernel_13/844953220.py:1: FutureWarning: The provided callable <function mean at 0x793f6f414b80> is currently using DataFrameGroupBy.mean. In a future version of pandas, the provided callable will be used directly. To keep current behavior pass the string \"mean\" instead.\n",
      "  avg_prices_per_category_general = df.groupby(\"category_general\")[[\"actual_price\" , \"discounted_price\"]].agg(np.mean)\n"
     ]
    },
    {
     "data": {
      "image/png": "[encoded data removed]",
      "text/plain": [
       "<Figure size 1200x600 with 1 Axes>"
      ]
     },
     "metadata": {},
     "output_type": "display_data"
    }
   ],
   "source": [
    "avg_prices_per_category_general = df.groupby(\"category_general\")[[\"actual_price\" , \"discounted_price\"]].agg(np.mean)\n",
    "print(avg_prices_per_category_general)\n",
    "\n",
    "avg_prices_per_category_general = avg_prices_per_category_general.rename(columns={\"actual_price\": \"Actual Price (₹)\",\"discounted_price\": \"Discounted Price (₹)\"})\n",
    "\n",
    "avg_prices_per_category_general.plot(kind = \"bar\" , figsize = (12,6))\n",
    "\n",
    "plt.title(\"Average Actual vs Discounted Price by Category\")\n",
    "plt.xlabel(\"General Category\")\n",
    "plt.ylabel(\"Price in Rupees (₹)\")\n",
    "plt.xticks(rotation = 45)\n",
    "plt.legend(title = \"Price Type\")\n",
    "\n",
    "plt.show()"
   ]
  },
  {
   "cell_type": "markdown",
   "id": "13ab73e4",
   "metadata": {
    "papermill": {
     "duration": 0.012052,
     "end_time": "2025-10-10T22:11:54.928747",
     "exception": false,
     "start_time": "2025-10-10T22:11:54.916695",
     "status": "completed"
    },
    "tags": []
   },
   "source": [
    "Bar chart illustrates that highest average prices are in 'Electronics' category and lowest average prices are in 'Toys & Games' category."
   ]
  },
  {
   "cell_type": "markdown",
   "id": "2407758e",
   "metadata": {
    "papermill": {
     "duration": 0.01159,
     "end_time": "2025-10-10T22:11:54.952445",
     "exception": false,
     "start_time": "2025-10-10T22:11:54.940855",
     "status": "completed"
    },
    "tags": []
   },
   "source": [
    "Let's also look at the summary statistics of 'rating' and 'rating_count' columns."
   ]
  },
  {
   "cell_type": "code",
   "execution_count": 22,
   "id": "ea9a8e77",
   "metadata": {
    "execution": {
     "iopub.execute_input": "2025-10-10T22:11:54.977693Z",
     "iopub.status.busy": "2025-10-10T22:11:54.977383Z",
     "iopub.status.idle": "2025-10-10T22:11:54.986631Z",
     "shell.execute_reply": "2025-10-10T22:11:54.985442Z"
    },
    "papermill": {
     "duration": 0.023644,
     "end_time": "2025-10-10T22:11:54.988083",
     "exception": false,
     "start_time": "2025-10-10T22:11:54.964439",
     "status": "completed"
    },
    "tags": []
   },
   "outputs": [
    {
     "name": "stdout",
     "output_type": "stream",
     "text": [
      "Average Rating : 4.1\n",
      "Average Rating Count : 18307.38\n",
      "----------------------------\n",
      "Minimum Rating : 2.0\n",
      "Minimum Rating Count : 2.0\n",
      "----------------------------\n",
      "Maximum Rating : 5.0\n",
      "Maximum Rating Count : 426973.0\n",
      "----------------------------\n",
      "Standard Deviation of Rating : 0.29\n",
      "Standard Deviation of Rating Count : 42766.1\n",
      "----------------------------\n",
      "Median of Rating : 4.1\n",
      "Median of Rating Count : 5179.0\n"
     ]
    }
   ],
   "source": [
    "print(\"Average Rating :\" , round(df[\"rating\"].mean() , 2))\n",
    "print(\"Average Rating Count :\" , round(df[\"rating_count\"].mean() , 2))\n",
    "print(\"----------------------------\")\n",
    "print(\"Minimum Rating :\" , df[\"rating\"].min())\n",
    "print(\"Minimum Rating Count :\" , df[\"rating_count\"].min())\n",
    "print(\"----------------------------\")\n",
    "print(\"Maximum Rating :\" , df[\"rating\"].max())\n",
    "print(\"Maximum Rating Count :\" , df[\"rating_count\"].max())\n",
    "print(\"----------------------------\")\n",
    "print(\"Standard Deviation of Rating :\" , round(df[\"rating\"].std(ddof=1),2))\n",
    "print(\"Standard Deviation of Rating Count :\" , round(df[\"rating_count\"].std(ddof=1),2))\n",
    "print(\"----------------------------\")\n",
    "print(\"Median of Rating :\" , np.median(df[\"rating\"]))\n",
    "print(\"Median of Rating Count :\" ,np.median(df[\"rating_count\"]))"
   ]
  },
  {
   "cell_type": "markdown",
   "id": "dd99fdb0",
   "metadata": {
    "papermill": {
     "duration": 0.011644,
     "end_time": "2025-10-10T22:11:55.012052",
     "exception": false,
     "start_time": "2025-10-10T22:11:55.000408",
     "status": "completed"
    },
    "tags": []
   },
   "source": [
    "Done!"
   ]
  },
  {
   "cell_type": "markdown",
   "id": "2889767c",
   "metadata": {
    "papermill": {
     "duration": 0.011511,
     "end_time": "2025-10-10T22:11:55.035552",
     "exception": false,
     "start_time": "2025-10-10T22:11:55.024041",
     "status": "completed"
    },
    "tags": []
   },
   "source": [
    "Let's find out which product or products has the highest rating count!"
   ]
  },
  {
   "cell_type": "code",
   "execution_count": 23,
   "id": "6eb8a7d4",
   "metadata": {
    "execution": {
     "iopub.execute_input": "2025-10-10T22:11:55.060896Z",
     "iopub.status.busy": "2025-10-10T22:11:55.060575Z",
     "iopub.status.idle": "2025-10-10T22:11:55.069827Z",
     "shell.execute_reply": "2025-10-10T22:11:55.068910Z"
    },
    "papermill": {
     "duration": 0.023735,
     "end_time": "2025-10-10T22:11:55.071253",
     "exception": false,
     "start_time": "2025-10-10T22:11:55.047518",
     "status": "completed"
    },
    "tags": []
   },
   "outputs": [
    {
     "name": "stdout",
     "output_type": "stream",
     "text": [
      "    product_id  rating_count\n",
      "12  B07KSMBL2H      426973.0\n",
      "47  B014I8SSD0      426973.0\n",
      "65  B014I8SX4Y      426973.0\n"
     ]
    }
   ],
   "source": [
    "max_rating_count = df[\"rating_count\"].max()\n",
    "print(df[df[\"rating_count\"] == max_rating_count][[ \"product_id\" , \"rating_count\"]])"
   ]
  },
  {
   "cell_type": "markdown",
   "id": "8e393bd9",
   "metadata": {
    "papermill": {
     "duration": 0.01265,
     "end_time": "2025-10-10T22:11:55.096616",
     "exception": false,
     "start_time": "2025-10-10T22:11:55.083966",
     "status": "completed"
    },
    "tags": []
   },
   "source": [
    "We found out that products with ID'S B07KSMBL2H , B014I8SSD0 , B014I8SX4Y are the products with the highest rating_count in our dataset with a count of 426973. Impressive !"
   ]
  },
  {
   "cell_type": "markdown",
   "id": "52669060",
   "metadata": {
    "papermill": {
     "duration": 0.012013,
     "end_time": "2025-10-10T22:11:55.120908",
     "exception": false,
     "start_time": "2025-10-10T22:11:55.108895",
     "status": "completed"
    },
    "tags": []
   },
   "source": [
    "Let's also look at the distribution of products with their respective ratings!"
   ]
  },
  {
   "cell_type": "code",
   "execution_count": 24,
   "id": "78aec069",
   "metadata": {
    "execution": {
     "iopub.execute_input": "2025-10-10T22:11:55.146301Z",
     "iopub.status.busy": "2025-10-10T22:11:55.145996Z",
     "iopub.status.idle": "2025-10-10T22:11:55.506660Z",
     "shell.execute_reply": "2025-10-10T22:11:55.505697Z"
    },
    "papermill": {
     "duration": 0.375224,
     "end_time": "2025-10-10T22:11:55.508207",
     "exception": false,
     "start_time": "2025-10-10T22:11:55.132983",
     "status": "completed"
    },
    "tags": []
   },
   "outputs": [
    {
     "data": {
      "image/png": "[encoded data removed]",
      "text/plain": [
       "<Figure size 1200x600 with 1 Axes>"
      ]
     },
     "metadata": {},
     "output_type": "display_data"
    }
   ],
   "source": [
    "grouped_rating_product_id = df.groupby(\"rating\")[\"product_id\"].count()\n",
    "\n",
    "ax_2 = grouped_rating_product_id.plot(kind=\"bar\" , figsize=(12,6) , color = \"darkblue\")\n",
    "\n",
    "plt.title(\"Number of Products by Rating\")\n",
    "plt.ylabel(\"Number of Products\")\n",
    "plt.xlabel(\"Rating\")\n",
    "plt.xticks(rotation = 0)\n",
    "\n",
    "# Data Labels\n",
    "for i in ax_2.containers:\n",
    "    ax_2.bar_label(i)\n",
    "\n",
    "plt.show()"
   ]
  },
  {
   "cell_type": "markdown",
   "id": "2eddebe2",
   "metadata": {
    "papermill": {
     "duration": 0.012679,
     "end_time": "2025-10-10T22:11:55.534414",
     "exception": false,
     "start_time": "2025-10-10T22:11:55.521735",
     "status": "completed"
    },
    "tags": []
   },
   "source": [
    "Nice! This barplot shows that a huge part of products  in this dataset falls between 4.0 rating and 4.4 rating! "
   ]
  },
  {
   "cell_type": "markdown",
   "id": "0a75b32a",
   "metadata": {
    "papermill": {
     "duration": 0.012496,
     "end_time": "2025-10-10T22:11:55.559951",
     "exception": false,
     "start_time": "2025-10-10T22:11:55.547455",
     "status": "completed"
    },
    "tags": []
   },
   "source": [
    "## MODEL"
   ]
  },
  {
   "cell_type": "markdown",
   "id": "bf921f44",
   "metadata": {
    "papermill": {
     "duration": 0.013136,
     "end_time": "2025-10-10T22:11:55.585762",
     "exception": false,
     "start_time": "2025-10-10T22:11:55.572626",
     "status": "completed"
    },
    "tags": []
   },
   "source": [
    "### Correlation Analysis\n",
    "\n",
    "In this stage , we will try to find correlations and model them. Let's start by inspecting the relationship between 'rating' and 'discount_percentage'."
   ]
  },
  {
   "cell_type": "code",
   "execution_count": 25,
   "id": "cb4c70b7",
   "metadata": {
    "execution": {
     "iopub.execute_input": "2025-10-10T22:11:55.612520Z",
     "iopub.status.busy": "2025-10-10T22:11:55.612164Z",
     "iopub.status.idle": "2025-10-10T22:11:55.623733Z",
     "shell.execute_reply": "2025-10-10T22:11:55.622811Z"
    },
    "papermill": {
     "duration": 0.026748,
     "end_time": "2025-10-10T22:11:55.625100",
     "exception": false,
     "start_time": "2025-10-10T22:11:55.598352",
     "status": "completed"
    },
    "tags": []
   },
   "outputs": [
    {
     "name": "stdout",
     "output_type": "stream",
     "text": [
      "                       rating  discount_percentage\n",
      "rating               1.000000            -0.155679\n",
      "discount_percentage -0.155679             1.000000\n"
     ]
    }
   ],
   "source": [
    "corr_dp_rating = df[[\"rating\", \"discount_percentage\"]].corr()\n",
    "print(corr_dp_rating)"
   ]
  },
  {
   "cell_type": "markdown",
   "id": "4f2ed12e",
   "metadata": {
    "papermill": {
     "duration": 0.012785,
     "end_time": "2025-10-10T22:11:55.651075",
     "exception": false,
     "start_time": "2025-10-10T22:11:55.638290",
     "status": "completed"
    },
    "tags": []
   },
   "source": [
    "We can see that the correlation coefficient is -0.155679 which means that there is a very weak negative correlation rating and discount percentage. This means that higher discounts are slightly associated with lower product ratings, although the relationship is not strong enough to be considered significant."
   ]
  },
  {
   "cell_type": "code",
   "execution_count": 26,
   "id": "8026ca0c",
   "metadata": {
    "execution": {
     "iopub.execute_input": "2025-10-10T22:11:55.678448Z",
     "iopub.status.busy": "2025-10-10T22:11:55.678112Z",
     "iopub.status.idle": "2025-10-10T22:11:56.037395Z",
     "shell.execute_reply": "2025-10-10T22:11:56.036574Z"
    },
    "papermill": {
     "duration": 0.375631,
     "end_time": "2025-10-10T22:11:56.039646",
     "exception": false,
     "start_time": "2025-10-10T22:11:55.664015",
     "status": "completed"
    },
    "tags": []
   },
   "outputs": [
    {
     "data": {
      "image/png": "[encoded data removed]",
      "text/plain": [
       "<Figure size 640x480 with 1 Axes>"
      ]
     },
     "metadata": {},
     "output_type": "display_data"
    }
   ],
   "source": [
    "sns.regplot(data=df, x=\"discount_percentage\", y=\"rating\", scatter_kws={\"alpha\":0.5},line_kws={\"color\": \"red\"})\n",
    "\n",
    "plt.title(\"Discount Percentage vs Rating\")\n",
    "plt.xlabel(\"Discount Percentage (%)\")\n",
    "plt.ylabel(\"Rating\")\n",
    "\n",
    "plt.show()\n"
   ]
  },
  {
   "cell_type": "markdown",
   "id": "e9f96eeb",
   "metadata": {
    "papermill": {
     "duration": 0.014128,
     "end_time": "2025-10-10T22:11:56.068429",
     "exception": false,
     "start_time": "2025-10-10T22:11:56.054301",
     "status": "completed"
    },
    "tags": []
   },
   "source": [
    "From the regression plot we can also see that there is a slight negative tilt that shows us the slight negative correlation!"
   ]
  },
  {
   "cell_type": "markdown",
   "id": "96649820",
   "metadata": {
    "papermill": {
     "duration": 0.014147,
     "end_time": "2025-10-10T22:11:56.097084",
     "exception": false,
     "start_time": "2025-10-10T22:11:56.082937",
     "status": "completed"
    },
    "tags": []
   },
   "source": [
    "Let's also check the relationship between \"rating\" and \"rating_count\""
   ]
  },
  {
   "cell_type": "code",
   "execution_count": 27,
   "id": "b14601bc",
   "metadata": {
    "execution": {
     "iopub.execute_input": "2025-10-10T22:11:56.127307Z",
     "iopub.status.busy": "2025-10-10T22:11:56.127006Z",
     "iopub.status.idle": "2025-10-10T22:11:56.135752Z",
     "shell.execute_reply": "2025-10-10T22:11:56.134580Z"
    },
    "papermill": {
     "duration": 0.025681,
     "end_time": "2025-10-10T22:11:56.137232",
     "exception": false,
     "start_time": "2025-10-10T22:11:56.111551",
     "status": "completed"
    },
    "tags": []
   },
   "outputs": [
    {
     "name": "stdout",
     "output_type": "stream",
     "text": [
      "                rating  rating_count\n",
      "rating        1.000000      0.102235\n",
      "rating_count  0.102235      1.000000\n"
     ]
    }
   ],
   "source": [
    "corr_rating_ratingcount = df[[\"rating\", \"rating_count\"]].corr()\n",
    "print(corr_rating_ratingcount)"
   ]
  },
  {
   "cell_type": "markdown",
   "id": "66915e96",
   "metadata": {
    "papermill": {
     "duration": 0.014868,
     "end_time": "2025-10-10T22:11:56.167035",
     "exception": false,
     "start_time": "2025-10-10T22:11:56.152167",
     "status": "completed"
    },
    "tags": []
   },
   "source": [
    "We can see that the correlation coefficient is 0.102235 , which means that there is a slight positive correlation between rating and count of ratings. We can also say that this suggests that products with a higher number of reviews tend to have slightly higher ratings, although the relationship is not strong enough to be considered significant too."
   ]
  },
  {
   "cell_type": "markdown",
   "id": "c5433a3e",
   "metadata": {
    "papermill": {
     "duration": 0.014919,
     "end_time": "2025-10-10T22:11:56.196636",
     "exception": false,
     "start_time": "2025-10-10T22:11:56.181717",
     "status": "completed"
    },
    "tags": []
   },
   "source": [
    "Let's also visualize this relationship in order to understand it better."
   ]
  },
  {
   "cell_type": "code",
   "execution_count": 28,
   "id": "765de5d4",
   "metadata": {
    "execution": {
     "iopub.execute_input": "2025-10-10T22:11:56.227258Z",
     "iopub.status.busy": "2025-10-10T22:11:56.226583Z",
     "iopub.status.idle": "2025-10-10T22:11:56.548036Z",
     "shell.execute_reply": "2025-10-10T22:11:56.546906Z"
    },
    "papermill": {
     "duration": 0.338811,
     "end_time": "2025-10-10T22:11:56.549887",
     "exception": false,
     "start_time": "2025-10-10T22:11:56.211076",
     "status": "completed"
    },
    "tags": []
   },
   "outputs": [
    {
     "data": {
      "image/png": "[encoded data removed]",
      "text/plain": [
       "<Figure size 640x480 with 1 Axes>"
      ]
     },
     "metadata": {},
     "output_type": "display_data"
    }
   ],
   "source": [
    "sns.regplot(data=df, x=\"rating\", y=\"rating_count\", scatter_kws={\"alpha\":0.5},line_kws={\"color\": \"red\"})\n",
    "\n",
    "plt.title(\"Rating vs Rating Count\")\n",
    "plt.xlabel(\"Rating\")\n",
    "plt.ylabel(\"Rating Count\")\n",
    "\n",
    "plt.show()"
   ]
  },
  {
   "cell_type": "markdown",
   "id": "4a34c120",
   "metadata": {
    "papermill": {
     "duration": 0.015153,
     "end_time": "2025-10-10T22:11:56.580853",
     "exception": false,
     "start_time": "2025-10-10T22:11:56.565700",
     "status": "completed"
    },
    "tags": []
   },
   "source": [
    "From the regression plot we can also see that there is a slight positive tilt that shows us the slight positive correlation between ratings and count of ratings!"
   ]
  },
  {
   "cell_type": "markdown",
   "id": "d48a94d0",
   "metadata": {
    "papermill": {
     "duration": 0.015215,
     "end_time": "2025-10-10T22:11:56.612779",
     "exception": false,
     "start_time": "2025-10-10T22:11:56.597564",
     "status": "completed"
    },
    "tags": []
   },
   "source": [
    "## INTERPRET"
   ]
  },
  {
   "cell_type": "markdown",
   "id": "97c7fd52",
   "metadata": {
    "papermill": {
     "duration": 0.015291,
     "end_time": "2025-10-10T22:11:56.643536",
     "exception": false,
     "start_time": "2025-10-10T22:11:56.628245",
     "status": "completed"
    },
    "tags": []
   },
   "source": [
    "In this section, we interpret the key findings of our amazon sales dataset analysis to understand what the data reveals about customer behavior and product performance on Amazon.\n",
    "\n",
    "### Relationship between Discount Percentage and Rating\n",
    "\n",
    "**Correlation:** `r = -0.15` (Very weak negative correlation)\n",
    "\n",
    "- There is a very weak negative relationship between the discount percentage and the product rating.  \n",
    "- This suggests that products with higher discounts tend to have slightly lower ratings.  \n",
    "- It could indicate that heavily discounted products may be of lower perceived quality or part of older stock.  \n",
    "- However, since the relationship is weak, discount rate alone does not strongly influence customer satisfaction.\n",
    "\n",
    "**Insight:**  \n",
    "Discount strategies might not directly improve how customers rate products.  \n",
    "Businesses should focus on maintaining product quality and only use discounts strategically.\n",
    "\n",
    "\n",
    "2. Relationship between Rating Count and Average Rating\n",
    "\n",
    "**Correlation:** `r = 0.10` (Very weak positive correlation)\n",
    "\n",
    "- There is a very weak positive correlation between the number of ratings and the average product rating.  \n",
    "- This indicates that products with more reviews tend to have slightly higher ratings, but the effect is minimal.  \n",
    "- It suggests that popular products receive marginally better feedback, though other factors likely play a larger role in customer satisfaction.\n",
    "\n",
    "**Insight:**  \n",
    "Encouraging more customers to leave reviews can help increase trust and visibility of products,  \n",
    "but the number of reviews alone does not determine high ratings.\n",
    "\n",
    "\n",
    "### Overall Interpretation\n",
    "\n",
    "- Discount percentage and rating have a **very weak negative** relationship.  \n",
    "- Rating count and rating have a **very weak positive** relationship.  \n",
    "- Neither variable shows a strong predictive power for product ratings\n"
   ]
  }
 ],
 "metadata": {
  "kaggle": {
   "accelerator": "none",
   "dataSources": [
    {
     "datasetId": 2818963,
     "sourceId": 4862520,
     "sourceType": "datasetVersion"
    }
   ],
   "dockerImageVersionId": 31153,
   "isGpuEnabled": false,
   "isInternetEnabled": true,
   "language": "python",
   "sourceType": "notebook"
  },
  "kernelspec": {
   "display_name": "Python 3",
   "language": "python",
   "name": "python3"
  },
  "language_info": {
   "codemirror_mode": {
    "name": "ipython",
    "version": 3
   },
   "file_extension": ".py",
   "mimetype": "text/x-python",
   "name": "python",
   "nbconvert_exporter": "python",
   "pygments_lexer": "ipython3",
   "version": "3.11.13"
  },
  "papermill": {
   "default_parameters": {},
   "duration": 13.045878,
   "end_time": "2025-10-10T22:11:57.380039",
   "environment_variables": {},
   "exception": null,
   "input_path": "__notebook__.ipynb",
   "output_path": "__notebook__.ipynb",
   "parameters": {},
   "start_time": "2025-10-10T22:11:44.334161",
   "version": "2.6.0"
  }
 },
 "nbformat": 4,
 "nbformat_minor": 5
}
